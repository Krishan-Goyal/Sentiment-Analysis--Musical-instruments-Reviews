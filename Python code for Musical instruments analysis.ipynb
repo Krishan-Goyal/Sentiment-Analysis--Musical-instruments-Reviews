{
  "nbformat": 4,
  "nbformat_minor": 0,
  "metadata": {
    "colab": {
      "name": "Untitled4.ipynb",
      "provenance": [],
      "collapsed_sections": []
    },
    "kernelspec": {
      "name": "python3",
      "display_name": "Python 3"
    },
    "language_info": {
      "name": "python"
    }
  },
  "cells": [
    {
      "cell_type": "code",
      "metadata": {
        "id": "L3TTYj87ukdU"
      },
      "source": [
        "#SENTIMENT ANALYSIS OF MUSICAL INSTRUMENTS REVIEWS\n",
        "#Krishan Goyal (krishan30081993@gmail.com)\n",
        "\n",
        "#Importing Libraries\n",
        "import numpy as np \n",
        "import pandas as pd\n",
        "import matplotlib.pyplot as plt\n",
        "import seaborn as sns\n",
        "import spacy\n",
        "from sklearn.model_selection import train_test_split\n",
        "from nltk.tokenize import RegexpTokenizer\n",
        "from nltk.stem import WordNetLemmatizer\n",
        "from nltk.corpus import stopwords\n",
        "import string\n",
        "from string import punctuation\n",
        "import collections\n",
        "from collections import Counter\n",
        "from sklearn.feature_extraction.text import CountVectorizer, TfidfVectorizer\n",
        "from sklearn.metrics import accuracy_score\n",
        "from sklearn.naive_bayes import MultinomialNB\n",
        "from sklearn.linear_model import LogisticRegression\n",
        "from sklearn.ensemble import RandomForestClassifier\n",
        "from sklearn.svm import LinearSVC\n",
        "from sklearn.model_selection import cross_val_score\n"
      ],
      "execution_count": 2,
      "outputs": []
    },
    {
      "cell_type": "code",
      "metadata": {
        "colab": {
          "base_uri": "https://localhost:8080/",
          "height": 371
        },
        "id": "trXfww1tuo4S",
        "outputId": "7f3f480b-95dd-42e6-a3f4-94d4b3719148"
      },
      "source": [
        "#Importing data\n",
        "\n",
        "data = pd.read_csv('Musical_Instruments_5.csv')\n",
        "data.head()"
      ],
      "execution_count": 4,
      "outputs": [
        {
          "output_type": "execute_result",
          "data": {
            "text/html": [
              "<div>\n",
              "<style scoped>\n",
              "    .dataframe tbody tr th:only-of-type {\n",
              "        vertical-align: middle;\n",
              "    }\n",
              "\n",
              "    .dataframe tbody tr th {\n",
              "        vertical-align: top;\n",
              "    }\n",
              "\n",
              "    .dataframe thead th {\n",
              "        text-align: right;\n",
              "    }\n",
              "</style>\n",
              "<table border=\"1\" class=\"dataframe\">\n",
              "  <thead>\n",
              "    <tr style=\"text-align: right;\">\n",
              "      <th></th>\n",
              "      <th>reviewerID</th>\n",
              "      <th>asin</th>\n",
              "      <th>reviewerName</th>\n",
              "      <th>helpful/0</th>\n",
              "      <th>helpful/1</th>\n",
              "      <th>reviewText</th>\n",
              "      <th>overall</th>\n",
              "      <th>summary</th>\n",
              "      <th>unixReviewTime</th>\n",
              "      <th>reviewTime</th>\n",
              "    </tr>\n",
              "  </thead>\n",
              "  <tbody>\n",
              "    <tr>\n",
              "      <th>0</th>\n",
              "      <td>A2IBPI20UZIR0U</td>\n",
              "      <td>1384719342</td>\n",
              "      <td>cassandra tu \"Yeah, well, that's just like, u...</td>\n",
              "      <td>0</td>\n",
              "      <td>0</td>\n",
              "      <td>Not much to write about here, but it does exac...</td>\n",
              "      <td>5</td>\n",
              "      <td>good</td>\n",
              "      <td>1393545600</td>\n",
              "      <td>02 28, 2014</td>\n",
              "    </tr>\n",
              "    <tr>\n",
              "      <th>1</th>\n",
              "      <td>A14VAT5EAX3D9S</td>\n",
              "      <td>1384719342</td>\n",
              "      <td>Jake</td>\n",
              "      <td>13</td>\n",
              "      <td>14</td>\n",
              "      <td>The product does exactly as it should and is q...</td>\n",
              "      <td>5</td>\n",
              "      <td>Jake</td>\n",
              "      <td>1363392000</td>\n",
              "      <td>03 16, 2013</td>\n",
              "    </tr>\n",
              "    <tr>\n",
              "      <th>2</th>\n",
              "      <td>A195EZSQDW3E21</td>\n",
              "      <td>1384719342</td>\n",
              "      <td>Rick Bennette \"Rick Bennette\"</td>\n",
              "      <td>1</td>\n",
              "      <td>1</td>\n",
              "      <td>The primary job of this device is to block the...</td>\n",
              "      <td>5</td>\n",
              "      <td>It Does The Job Well</td>\n",
              "      <td>1377648000</td>\n",
              "      <td>08 28, 2013</td>\n",
              "    </tr>\n",
              "    <tr>\n",
              "      <th>3</th>\n",
              "      <td>A2C00NNG1ZQQG2</td>\n",
              "      <td>1384719342</td>\n",
              "      <td>RustyBill \"Sunday Rocker\"</td>\n",
              "      <td>0</td>\n",
              "      <td>0</td>\n",
              "      <td>Nice windscreen protects my MXL mic and preven...</td>\n",
              "      <td>5</td>\n",
              "      <td>GOOD WINDSCREEN FOR THE MONEY</td>\n",
              "      <td>1392336000</td>\n",
              "      <td>02 14, 2014</td>\n",
              "    </tr>\n",
              "    <tr>\n",
              "      <th>4</th>\n",
              "      <td>A94QU4C90B1AX</td>\n",
              "      <td>1384719342</td>\n",
              "      <td>SEAN MASLANKA</td>\n",
              "      <td>0</td>\n",
              "      <td>0</td>\n",
              "      <td>This pop filter is great. It looks and perform...</td>\n",
              "      <td>5</td>\n",
              "      <td>No more pops when I record my vocals.</td>\n",
              "      <td>1392940800</td>\n",
              "      <td>02 21, 2014</td>\n",
              "    </tr>\n",
              "  </tbody>\n",
              "</table>\n",
              "</div>"
            ],
            "text/plain": [
              "       reviewerID        asin  ... unixReviewTime   reviewTime\n",
              "0  A2IBPI20UZIR0U  1384719342  ...     1393545600  02 28, 2014\n",
              "1  A14VAT5EAX3D9S  1384719342  ...     1363392000  03 16, 2013\n",
              "2  A195EZSQDW3E21  1384719342  ...     1377648000  08 28, 2013\n",
              "3  A2C00NNG1ZQQG2  1384719342  ...     1392336000  02 14, 2014\n",
              "4   A94QU4C90B1AX  1384719342  ...     1392940800  02 21, 2014\n",
              "\n",
              "[5 rows x 10 columns]"
            ]
          },
          "metadata": {
            "tags": []
          },
          "execution_count": 4
        }
      ]
    },
    {
      "cell_type": "code",
      "metadata": {
        "colab": {
          "base_uri": "https://localhost:8080/"
        },
        "id": "hitvtg8yvDZU",
        "outputId": "c1dfc55b-1659-4dfa-c528-32ae066ec866"
      },
      "source": [
        "\n",
        "data.shape"
      ],
      "execution_count": 5,
      "outputs": [
        {
          "output_type": "execute_result",
          "data": {
            "text/plain": [
              "(10261, 10)"
            ]
          },
          "metadata": {
            "tags": []
          },
          "execution_count": 5
        }
      ]
    },
    {
      "cell_type": "code",
      "metadata": {
        "colab": {
          "base_uri": "https://localhost:8080/"
        },
        "id": "llP1UCjovUAS",
        "outputId": "8d32cbbb-a5ce-48dc-bba3-f9f3bfd7b835"
      },
      "source": [
        "data.isna().sum()"
      ],
      "execution_count": 6,
      "outputs": [
        {
          "output_type": "execute_result",
          "data": {
            "text/plain": [
              "reviewerID         0\n",
              "asin               0\n",
              "reviewerName      27\n",
              "helpful/0          0\n",
              "helpful/1          0\n",
              "reviewText         7\n",
              "overall            0\n",
              "summary            0\n",
              "unixReviewTime     0\n",
              "reviewTime         0\n",
              "dtype: int64"
            ]
          },
          "metadata": {
            "tags": []
          },
          "execution_count": 6
        }
      ]
    },
    {
      "cell_type": "code",
      "metadata": {
        "colab": {
          "base_uri": "https://localhost:8080/",
          "height": 203
        },
        "id": "8ty_nviZxX5c",
        "outputId": "2e66523d-515d-41a7-d2a4-ffca40653fc9"
      },
      "source": [
        "#DROPPING USELESS FEATURES\n",
        "data = data.drop(['reviewerID', 'asin','reviewerName', 'unixReviewTime', 'helpful/1','helpful/0', 'reviewTime' ], axis = 1)\n",
        "data.head()"
      ],
      "execution_count": 7,
      "outputs": [
        {
          "output_type": "execute_result",
          "data": {
            "text/html": [
              "<div>\n",
              "<style scoped>\n",
              "    .dataframe tbody tr th:only-of-type {\n",
              "        vertical-align: middle;\n",
              "    }\n",
              "\n",
              "    .dataframe tbody tr th {\n",
              "        vertical-align: top;\n",
              "    }\n",
              "\n",
              "    .dataframe thead th {\n",
              "        text-align: right;\n",
              "    }\n",
              "</style>\n",
              "<table border=\"1\" class=\"dataframe\">\n",
              "  <thead>\n",
              "    <tr style=\"text-align: right;\">\n",
              "      <th></th>\n",
              "      <th>reviewText</th>\n",
              "      <th>overall</th>\n",
              "      <th>summary</th>\n",
              "    </tr>\n",
              "  </thead>\n",
              "  <tbody>\n",
              "    <tr>\n",
              "      <th>0</th>\n",
              "      <td>Not much to write about here, but it does exac...</td>\n",
              "      <td>5</td>\n",
              "      <td>good</td>\n",
              "    </tr>\n",
              "    <tr>\n",
              "      <th>1</th>\n",
              "      <td>The product does exactly as it should and is q...</td>\n",
              "      <td>5</td>\n",
              "      <td>Jake</td>\n",
              "    </tr>\n",
              "    <tr>\n",
              "      <th>2</th>\n",
              "      <td>The primary job of this device is to block the...</td>\n",
              "      <td>5</td>\n",
              "      <td>It Does The Job Well</td>\n",
              "    </tr>\n",
              "    <tr>\n",
              "      <th>3</th>\n",
              "      <td>Nice windscreen protects my MXL mic and preven...</td>\n",
              "      <td>5</td>\n",
              "      <td>GOOD WINDSCREEN FOR THE MONEY</td>\n",
              "    </tr>\n",
              "    <tr>\n",
              "      <th>4</th>\n",
              "      <td>This pop filter is great. It looks and perform...</td>\n",
              "      <td>5</td>\n",
              "      <td>No more pops when I record my vocals.</td>\n",
              "    </tr>\n",
              "  </tbody>\n",
              "</table>\n",
              "</div>"
            ],
            "text/plain": [
              "                                          reviewText  ...                                summary\n",
              "0  Not much to write about here, but it does exac...  ...                                   good\n",
              "1  The product does exactly as it should and is q...  ...                                   Jake\n",
              "2  The primary job of this device is to block the...  ...                   It Does The Job Well\n",
              "3  Nice windscreen protects my MXL mic and preven...  ...          GOOD WINDSCREEN FOR THE MONEY\n",
              "4  This pop filter is great. It looks and perform...  ...  No more pops when I record my vocals.\n",
              "\n",
              "[5 rows x 3 columns]"
            ]
          },
          "metadata": {
            "tags": []
          },
          "execution_count": 7
        }
      ]
    },
    {
      "cell_type": "code",
      "metadata": {
        "colab": {
          "base_uri": "https://localhost:8080/"
        },
        "id": "B4LGEVfxx_u9",
        "outputId": "82daf2e3-8bc7-468d-a6c9-caf9503e17d8"
      },
      "source": [
        "data.isna().sum()"
      ],
      "execution_count": 8,
      "outputs": [
        {
          "output_type": "execute_result",
          "data": {
            "text/plain": [
              "reviewText    7\n",
              "overall       0\n",
              "summary       0\n",
              "dtype: int64"
            ]
          },
          "metadata": {
            "tags": []
          },
          "execution_count": 8
        }
      ]
    },
    {
      "cell_type": "code",
      "metadata": {
        "colab": {
          "base_uri": "https://localhost:8080/"
        },
        "id": "_saAqMnryBDj",
        "outputId": "4389a256-5c1b-47f0-f1c9-509ba7093a03"
      },
      "source": [
        "data['reviewText'].fillna('Null', inplace = True)\n",
        "data.isna().any()"
      ],
      "execution_count": 9,
      "outputs": [
        {
          "output_type": "execute_result",
          "data": {
            "text/plain": [
              "reviewText    False\n",
              "overall       False\n",
              "summary       False\n",
              "dtype: bool"
            ]
          },
          "metadata": {
            "tags": []
          },
          "execution_count": 9
        }
      ]
    },
    {
      "cell_type": "code",
      "metadata": {
        "colab": {
          "base_uri": "https://localhost:8080/"
        },
        "id": "MLI97xGkyJ8W",
        "outputId": "a80f30a6-fb6f-4d04-f8d2-0067da0187d3"
      },
      "source": [
        "data['overall'].unique()"
      ],
      "execution_count": 10,
      "outputs": [
        {
          "output_type": "execute_result",
          "data": {
            "text/plain": [
              "array([5, 3, 4, 2, 1])"
            ]
          },
          "metadata": {
            "tags": []
          },
          "execution_count": 10
        }
      ]
    },
    {
      "cell_type": "code",
      "metadata": {
        "colab": {
          "base_uri": "https://localhost:8080/",
          "height": 203
        },
        "id": "3mwRRWgLyM50",
        "outputId": "7720a372-6c72-472c-91f0-82ca78c99e7b"
      },
      "source": [
        "#Classifying rating into Good and Bad\n",
        "def rating(overall):\n",
        "    if (int(overall <= 3)):\n",
        "        return 0\n",
        "    else:\n",
        "        return 1\n",
        "        \n",
        "data['rating'] = data['overall'].apply(rating)\n",
        "data = data.drop(['overall'], axis = 1)\n",
        "data.head()"
      ],
      "execution_count": 11,
      "outputs": [
        {
          "output_type": "execute_result",
          "data": {
            "text/html": [
              "<div>\n",
              "<style scoped>\n",
              "    .dataframe tbody tr th:only-of-type {\n",
              "        vertical-align: middle;\n",
              "    }\n",
              "\n",
              "    .dataframe tbody tr th {\n",
              "        vertical-align: top;\n",
              "    }\n",
              "\n",
              "    .dataframe thead th {\n",
              "        text-align: right;\n",
              "    }\n",
              "</style>\n",
              "<table border=\"1\" class=\"dataframe\">\n",
              "  <thead>\n",
              "    <tr style=\"text-align: right;\">\n",
              "      <th></th>\n",
              "      <th>reviewText</th>\n",
              "      <th>summary</th>\n",
              "      <th>rating</th>\n",
              "    </tr>\n",
              "  </thead>\n",
              "  <tbody>\n",
              "    <tr>\n",
              "      <th>0</th>\n",
              "      <td>Not much to write about here, but it does exac...</td>\n",
              "      <td>good</td>\n",
              "      <td>1</td>\n",
              "    </tr>\n",
              "    <tr>\n",
              "      <th>1</th>\n",
              "      <td>The product does exactly as it should and is q...</td>\n",
              "      <td>Jake</td>\n",
              "      <td>1</td>\n",
              "    </tr>\n",
              "    <tr>\n",
              "      <th>2</th>\n",
              "      <td>The primary job of this device is to block the...</td>\n",
              "      <td>It Does The Job Well</td>\n",
              "      <td>1</td>\n",
              "    </tr>\n",
              "    <tr>\n",
              "      <th>3</th>\n",
              "      <td>Nice windscreen protects my MXL mic and preven...</td>\n",
              "      <td>GOOD WINDSCREEN FOR THE MONEY</td>\n",
              "      <td>1</td>\n",
              "    </tr>\n",
              "    <tr>\n",
              "      <th>4</th>\n",
              "      <td>This pop filter is great. It looks and perform...</td>\n",
              "      <td>No more pops when I record my vocals.</td>\n",
              "      <td>1</td>\n",
              "    </tr>\n",
              "  </tbody>\n",
              "</table>\n",
              "</div>"
            ],
            "text/plain": [
              "                                          reviewText  ... rating\n",
              "0  Not much to write about here, but it does exac...  ...      1\n",
              "1  The product does exactly as it should and is q...  ...      1\n",
              "2  The primary job of this device is to block the...  ...      1\n",
              "3  Nice windscreen protects my MXL mic and preven...  ...      1\n",
              "4  This pop filter is great. It looks and perform...  ...      1\n",
              "\n",
              "[5 rows x 3 columns]"
            ]
          },
          "metadata": {
            "tags": []
          },
          "execution_count": 11
        }
      ]
    },
    {
      "cell_type": "code",
      "metadata": {
        "colab": {
          "base_uri": "https://localhost:8080/"
        },
        "id": "0KwhI--eyVYo",
        "outputId": "b0a02188-c941-4239-e2f8-a95c79b946b1"
      },
      "source": [
        "#Adding ratings (0-bad/1-good reviews)\n",
        "data.rating.unique()\n"
      ],
      "execution_count": 12,
      "outputs": [
        {
          "output_type": "execute_result",
          "data": {
            "text/plain": [
              "array([1, 0])"
            ]
          },
          "metadata": {
            "tags": []
          },
          "execution_count": 12
        }
      ]
    },
    {
      "cell_type": "code",
      "metadata": {
        "colab": {
          "base_uri": "https://localhost:8080/",
          "height": 350
        },
        "id": "2yUf_oO1yZWl",
        "outputId": "fd88451f-8fde-4f98-f623-89fc24587765"
      },
      "source": [
        "#Plotting Rating Counts\n",
        "sns.countplot(data.rating)\n"
      ],
      "execution_count": 13,
      "outputs": [
        {
          "output_type": "stream",
          "text": [
            "/usr/local/lib/python3.7/dist-packages/seaborn/_decorators.py:43: FutureWarning: Pass the following variable as a keyword arg: x. From version 0.12, the only valid positional argument will be `data`, and passing other arguments without an explicit keyword will result in an error or misinterpretation.\n",
            "  FutureWarning\n"
          ],
          "name": "stderr"
        },
        {
          "output_type": "execute_result",
          "data": {
            "text/plain": [
              "<matplotlib.axes._subplots.AxesSubplot at 0x7f639d6d7f90>"
            ]
          },
          "metadata": {
            "tags": []
          },
          "execution_count": 13
        },
        {
          "output_type": "display_data",
          "data": {
            "image/png": "[encoded data removed]",
            "text/plain": [
              "<Figure size 432x288 with 1 Axes>"
            ]
          },
          "metadata": {
            "tags": [],
            "needs_background": "light"
          }
        }
      ]
    },
    {
      "cell_type": "code",
      "metadata": {
        "colab": {
          "base_uri": "https://localhost:8080/",
          "height": 203
        },
        "id": "M3ZQmGDMygvo",
        "outputId": "3e063143-13ec-4500-abd9-debef9db57c5"
      },
      "source": [
        "#Concatinating Review text and Summary Features\n",
        "data['reviewText'] = data['reviewText'] + data['summary']\n",
        "data = data.drop(['summary'], axis = 1)\n",
        "data.head()"
      ],
      "execution_count": 14,
      "outputs": [
        {
          "output_type": "execute_result",
          "data": {
            "text/html": [
              "<div>\n",
              "<style scoped>\n",
              "    .dataframe tbody tr th:only-of-type {\n",
              "        vertical-align: middle;\n",
              "    }\n",
              "\n",
              "    .dataframe tbody tr th {\n",
              "        vertical-align: top;\n",
              "    }\n",
              "\n",
              "    .dataframe thead th {\n",
              "        text-align: right;\n",
              "    }\n",
              "</style>\n",
              "<table border=\"1\" class=\"dataframe\">\n",
              "  <thead>\n",
              "    <tr style=\"text-align: right;\">\n",
              "      <th></th>\n",
              "      <th>reviewText</th>\n",
              "      <th>rating</th>\n",
              "    </tr>\n",
              "  </thead>\n",
              "  <tbody>\n",
              "    <tr>\n",
              "      <th>0</th>\n",
              "      <td>Not much to write about here, but it does exac...</td>\n",
              "      <td>1</td>\n",
              "    </tr>\n",
              "    <tr>\n",
              "      <th>1</th>\n",
              "      <td>The product does exactly as it should and is q...</td>\n",
              "      <td>1</td>\n",
              "    </tr>\n",
              "    <tr>\n",
              "      <th>2</th>\n",
              "      <td>The primary job of this device is to block the...</td>\n",
              "      <td>1</td>\n",
              "    </tr>\n",
              "    <tr>\n",
              "      <th>3</th>\n",
              "      <td>Nice windscreen protects my MXL mic and preven...</td>\n",
              "      <td>1</td>\n",
              "    </tr>\n",
              "    <tr>\n",
              "      <th>4</th>\n",
              "      <td>This pop filter is great. It looks and perform...</td>\n",
              "      <td>1</td>\n",
              "    </tr>\n",
              "  </tbody>\n",
              "</table>\n",
              "</div>"
            ],
            "text/plain": [
              "                                          reviewText  rating\n",
              "0  Not much to write about here, but it does exac...       1\n",
              "1  The product does exactly as it should and is q...       1\n",
              "2  The primary job of this device is to block the...       1\n",
              "3  Nice windscreen protects my MXL mic and preven...       1\n",
              "4  This pop filter is great. It looks and perform...       1"
            ]
          },
          "metadata": {
            "tags": []
          },
          "execution_count": 14
        }
      ]
    },
    {
      "cell_type": "code",
      "metadata": {
        "id": "A_pVDOAayhzy"
      },
      "source": [
        "x = pd.DataFrame(data['reviewText'])\n",
        "y = pd.DataFrame(data.rating)\n",
        "data.reviewText = data.reviewText.astype('str')"
      ],
      "execution_count": 15,
      "outputs": []
    },
    {
      "cell_type": "code",
      "metadata": {
        "colab": {
          "base_uri": "https://localhost:8080/"
        },
        "id": "Z_VeUK_e1Q_l",
        "outputId": "c7faeba4-605a-483b-98a0-155c3a9de574"
      },
      "source": [
        "#IMPORTING LIBRARIES\n",
        "import nltk\n",
        "nltk.download('stopwords')\n",
        "nltk.download('wordnet')"
      ],
      "execution_count": 16,
      "outputs": [
        {
          "output_type": "stream",
          "text": [
            "[nltk_data] Downloading package stopwords to /root/nltk_data...\n",
            "[nltk_data]   Unzipping corpora/stopwords.zip.\n",
            "[nltk_data] Downloading package wordnet to /root/nltk_data...\n",
            "[nltk_data]   Unzipping corpora/wordnet.zip.\n"
          ],
          "name": "stdout"
        },
        {
          "output_type": "execute_result",
          "data": {
            "text/plain": [
              "True"
            ]
          },
          "metadata": {
            "tags": []
          },
          "execution_count": 16
        }
      ]
    },
    {
      "cell_type": "code",
      "metadata": {
        "id": "TVO3h73ryptx"
      },
      "source": [
        "#Removing stop words\n",
        "#Removing punctuations\n",
        "#Tokenization\n",
        "#Lemmatization\n",
        "\n",
        "\n",
        "nlp = spacy.load(\"en_core_web_sm\")\n",
        "tokenizer = RegexpTokenizer(r'\\w+')\n",
        "lemmatizer = WordNetLemmatizer()\n",
        "stop = set(stopwords.words('english'))\n",
        "punctuation = list(string.punctuation)\n",
        "stop.update(punctuation)\n",
        "\n",
        "            \n",
        "def furnished(text):\n",
        "    final_text = []\n",
        "    for i in text.split():\n",
        "        if i.lower() not in stop:\n",
        "            word = lemmatizer.lemmatize(i)\n",
        "            final_text.append(word.lower())\n",
        "    return \" \".join(final_text)\n",
        "\n",
        "\n",
        "            \n",
        "data.reviewText = data.reviewText.apply(furnished)"
      ],
      "execution_count": 17,
      "outputs": []
    },
    {
      "cell_type": "code",
      "metadata": {
        "colab": {
          "base_uri": "https://localhost:8080/"
        },
        "id": "Ec1gWM9EyzJ2",
        "outputId": "d37d55c7-c073-42e5-e117-e4255bb596bb"
      },
      "source": [
        "data.reviewText.describe()"
      ],
      "execution_count": 18,
      "outputs": [
        {
          "output_type": "execute_result",
          "data": {
            "text/plain": [
              "count                      10261\n",
              "unique                     10256\n",
              "top       good stringsfive stars\n",
              "freq                           3\n",
              "Name: reviewText, dtype: object"
            ]
          },
          "metadata": {
            "tags": []
          },
          "execution_count": 18
        }
      ]
    },
    {
      "cell_type": "code",
      "metadata": {
        "colab": {
          "base_uri": "https://localhost:8080/",
          "height": 609
        },
        "id": "SZoNGGzsy0h5",
        "outputId": "4a232533-4501-41bc-b42c-d68a778a62cc"
      },
      "source": [
        "for i in data.reviewText:\n",
        "    global text\n",
        "    text = i.split()\n",
        "    \n",
        "counter=Counter(text)\n",
        "most=counter.most_common()\n",
        "\n",
        "x, y= [], []\n",
        "for word,count in most[:20]:\n",
        "    if (word not in stop):\n",
        "        x.append(word)\n",
        "        y.append(count)\n",
        "plt.figure(figsize = (10,10))     \n",
        "sns.barplot(x=y,y=x)"
      ],
      "execution_count": 19,
      "outputs": [
        {
          "output_type": "execute_result",
          "data": {
            "text/plain": [
              "<matplotlib.axes._subplots.AxesSubplot at 0x7f638aadce50>"
            ]
          },
          "metadata": {
            "tags": []
          },
          "execution_count": 19
        },
        {
          "output_type": "display_data",
          "data": {
            "image/png": "[encoded data removed]",
            "text/plain": [
              "<Figure size 720x720 with 1 Axes>"
            ]
          },
          "metadata": {
            "tags": [],
            "needs_background": "light"
          }
        }
      ]
    },
    {
      "cell_type": "code",
      "metadata": {
        "colab": {
          "base_uri": "https://localhost:8080/",
          "height": 203
        },
        "id": "q53WKpsR1w9T",
        "outputId": "3c9adbbc-e42f-442d-9fd7-db1913899a52"
      },
      "source": [
        "data.head()"
      ],
      "execution_count": 20,
      "outputs": [
        {
          "output_type": "execute_result",
          "data": {
            "text/html": [
              "<div>\n",
              "<style scoped>\n",
              "    .dataframe tbody tr th:only-of-type {\n",
              "        vertical-align: middle;\n",
              "    }\n",
              "\n",
              "    .dataframe tbody tr th {\n",
              "        vertical-align: top;\n",
              "    }\n",
              "\n",
              "    .dataframe thead th {\n",
              "        text-align: right;\n",
              "    }\n",
              "</style>\n",
              "<table border=\"1\" class=\"dataframe\">\n",
              "  <thead>\n",
              "    <tr style=\"text-align: right;\">\n",
              "      <th></th>\n",
              "      <th>reviewText</th>\n",
              "      <th>rating</th>\n",
              "    </tr>\n",
              "  </thead>\n",
              "  <tbody>\n",
              "    <tr>\n",
              "      <th>0</th>\n",
              "      <td>much write here, exactly supposed to. filter p...</td>\n",
              "      <td>1</td>\n",
              "    </tr>\n",
              "    <tr>\n",
              "      <th>1</th>\n",
              "      <td>product exactly quite affordable.i realized do...</td>\n",
              "      <td>1</td>\n",
              "    </tr>\n",
              "    <tr>\n",
              "      <th>2</th>\n",
              "      <td>primary job device block breath would otherwis...</td>\n",
              "      <td>1</td>\n",
              "    </tr>\n",
              "    <tr>\n",
              "      <th>3</th>\n",
              "      <td>nice windscreen protects mxl mic prevents pops...</td>\n",
              "      <td>1</td>\n",
              "    </tr>\n",
              "    <tr>\n",
              "      <th>4</th>\n",
              "      <td>pop filter great. look performs like studio fi...</td>\n",
              "      <td>1</td>\n",
              "    </tr>\n",
              "  </tbody>\n",
              "</table>\n",
              "</div>"
            ],
            "text/plain": [
              "                                          reviewText  rating\n",
              "0  much write here, exactly supposed to. filter p...       1\n",
              "1  product exactly quite affordable.i realized do...       1\n",
              "2  primary job device block breath would otherwis...       1\n",
              "3  nice windscreen protects mxl mic prevents pops...       1\n",
              "4  pop filter great. look performs like studio fi...       1"
            ]
          },
          "metadata": {
            "tags": []
          },
          "execution_count": 20
        }
      ]
    },
    {
      "cell_type": "code",
      "metadata": {
        "id": "iQ4XOFgC12XW"
      },
      "source": [
        "#DATA SPLITTING\n",
        "x_train,x_test,y_train,y_test = train_test_split(data.reviewText,data.rating,test_size = 0.2 , random_state = 0)\n"
      ],
      "execution_count": 21,
      "outputs": []
    },
    {
      "cell_type": "code",
      "metadata": {
        "colab": {
          "base_uri": "https://localhost:8080/"
        },
        "id": "BPK_c4gZ16gB",
        "outputId": "168741b5-08c7-4ca3-b21b-49bd5c0379a8"
      },
      "source": [
        "\n",
        "#BagOfWords\n",
        "cv=CountVectorizer(min_df=0,max_df=1,binary=False,ngram_range=(1,3))\n",
        "bow_x_train = cv.fit_transform(x_train)\n",
        "bow_x_test = cv.transform(x_test)\n",
        "\n",
        "print('bow_x_train:',bow_x_train.shape)\n",
        "print('bow_x_test:',bow_x_test.shape)"
      ],
      "execution_count": 22,
      "outputs": [
        {
          "output_type": "stream",
          "text": [
            "bow_x_train: (8208, 590454)\n",
            "bow_x_test: (2053, 590454)\n"
          ],
          "name": "stdout"
        }
      ]
    },
    {
      "cell_type": "code",
      "metadata": {
        "colab": {
          "base_uri": "https://localhost:8080/"
        },
        "id": "8bI6HM9r2B2p",
        "outputId": "b4a4a50d-d706-4d67-8ae1-7ae89e39e6a6"
      },
      "source": [
        "#TF-IDF \n",
        "tv=TfidfVectorizer(min_df=0,max_df=1,use_idf=True,ngram_range=(1,3))\n",
        "\n",
        "tfidf_x_train =tv.fit_transform(x_train)\n",
        "tfidf_x_test =tv.transform(x_test)\n",
        "\n",
        "print('tfidf_x_train:',tfidf_x_train.shape)\n",
        "print('tfidf_x_test:',tfidf_x_test.shape)"
      ],
      "execution_count": 23,
      "outputs": [
        {
          "output_type": "stream",
          "text": [
            "tfidf_x_train: (8208, 590454)\n",
            "tfidf_x_test: (2053, 590454)\n"
          ],
          "name": "stdout"
        }
      ]
    },
    {
      "cell_type": "code",
      "metadata": {
        "colab": {
          "base_uri": "https://localhost:8080/"
        },
        "id": "TQe0l2WY2IAN",
        "outputId": "52a77989-67f7-4f3e-b369-5b0cd455f6fb"
      },
      "source": [
        "#NaiveBayesApllication\n",
        "nb = MultinomialNB()\n",
        "\n",
        "#fit\n",
        "bow = nb.fit(bow_x_train, y_train)\n",
        "tfidf = nb.fit(tfidf_x_train, y_train)\n",
        "\n",
        "#predict\n",
        "bow_predict = nb.predict(bow_x_test)\n",
        "tfidf_predict = nb.predict(tfidf_x_test)\n",
        "\n",
        "#accuracy\n",
        "nb_bow = accuracy_score(y_test, bow_predict)\n",
        "nb_tfidf = accuracy_score(y_test,tfidf_predict)\n",
        "\n",
        "print('nb bow accuracy:', nb_bow)\n",
        "print('tfidf accuracy:', nb_tfidf)"
      ],
      "execution_count": 24,
      "outputs": [
        {
          "output_type": "stream",
          "text": [
            "nb bow accuracy: 0.8894301022893327\n",
            "tfidf accuracy: 0.8889430102289333\n"
          ],
          "name": "stdout"
        }
      ]
    },
    {
      "cell_type": "code",
      "metadata": {
        "colab": {
          "base_uri": "https://localhost:8080/"
        },
        "id": "Cmzh-F_hRH97",
        "outputId": "5bea3231-daed-47ef-f712-36afdd07f4f6"
      },
      "source": [
        "#RandomForestApplication\n",
        "rf = RandomForestClassifier(n_estimators=200, max_depth=3, random_state=0)\n",
        "\n",
        "#fit\n",
        "bow = rf.fit(bow_x_train, y_train)\n",
        "tfidf = rf.fit(tfidf_x_train, y_train)\n",
        "\n",
        "#predict\n",
        "bow_predict = rf.predict(bow_x_test)\n",
        "tfidf_predict = rf.predict(tfidf_x_test)\n",
        "\n",
        "#accuracy\n",
        "rf_bow = accuracy_score(y_test, bow_predict)\n",
        "rf_tfidf = accuracy_score(y_test,tfidf_predict)\n",
        "\n",
        "print('rf bow accuracy:', rf_bow)\n",
        "print('rf tfidf accuracy:', rf_tfidf)"
      ],
      "execution_count": 25,
      "outputs": [
        {
          "output_type": "stream",
          "text": [
            "rf bow accuracy: 0.8889430102289333\n",
            "rf tfidf accuracy: 0.8889430102289333\n"
          ],
          "name": "stdout"
        }
      ]
    },
    {
      "cell_type": "code",
      "metadata": {
        "colab": {
          "base_uri": "https://localhost:8080/"
        },
        "id": "OBmeDmmdRIaC",
        "outputId": "e9638cff-7d21-4ce5-b0e5-78bbe302e6d8"
      },
      "source": [
        "#Linear SVC\n",
        "ls =  LinearSVC()\n",
        "\n",
        "#fit\n",
        "bow = ls.fit(bow_x_train, y_train)\n",
        "tfidf = ls.fit(tfidf_x_train, y_train)\n",
        "\n",
        "#predict\n",
        "bow_predict = ls.predict(bow_x_test)\n",
        "tfidf_predict = ls.predict(tfidf_x_test)\n",
        "\n",
        "#accuracy\n",
        "ls_bow = accuracy_score(y_test, bow_predict)\n",
        "ls_tfidf = accuracy_score(y_test,tfidf_predict)\n",
        "\n",
        "print('ls bow accuracy:', ls_bow)\n",
        "print('ls tfidf accuracy:', ls_tfidf)"
      ],
      "execution_count": 26,
      "outputs": [
        {
          "output_type": "stream",
          "text": [
            "ls bow accuracy: 0.8884559181685339\n",
            "ls tfidf accuracy: 0.8899171943497322\n"
          ],
          "name": "stdout"
        }
      ]
    },
    {
      "cell_type": "code",
      "metadata": {
        "colab": {
          "base_uri": "https://localhost:8080/"
        },
        "id": "2_Xf99KgSvvs",
        "outputId": "888837c7-572f-40b5-ae4f-1d9e7e164113"
      },
      "source": [
        "\n",
        "#Logistic Regression\n",
        "lr = LogisticRegression(random_state=0)\n",
        "\n",
        "#Fit\n",
        "bow = lr.fit(bow_x_train, y_train)\n",
        "tfidf = lr.fit(tfidf_x_train, y_train)\n",
        "\n",
        "#Predict\n",
        "bow_predict = lr.predict(bow_x_test)\n",
        "tfidf_predict = lr.predict(tfidf_x_test)\n",
        "\n",
        "#Accuracy\n",
        "lr_bow = accuracy_score(y_test, bow_predict)\n",
        "lr_tfidf = accuracy_score(y_test,tfidf_predict)\n",
        "\n",
        "print('lr bow accuracy:', lr_bow)\n",
        "print('lr tfidf accuracy:', lr_tfidf)"
      ],
      "execution_count": 28,
      "outputs": [
        {
          "output_type": "stream",
          "text": [
            "lr bow accuracy: 0.8899171943497322\n",
            "lr tfidf accuracy: 0.8889430102289333\n"
          ],
          "name": "stdout"
        }
      ]
    },
    {
      "cell_type": "code",
      "metadata": {
        "colab": {
          "base_uri": "https://localhost:8080/",
          "height": 295
        },
        "id": "WsUJLZjrS7ss",
        "outputId": "2b3aaeb8-3b5c-4bea-dc15-2cf37628acbf"
      },
      "source": [
        "data = {'accuracy': [nb_bow * 100, nb_tfidf * 100, rf_bow * 100, rf_tfidf * 100, lr_bow * 100, lr_tfidf * 100, ls_tfidf * 100, ls_bow * 100],\n",
        "                   'model': ['Naive bayes BOW', 'Naive bayes TF-IDF', 'Random Forest BOW', 'Random Forest TF-IDF', \n",
        "                                'logit BOW', 'logit TF-IDF', 'SVM BOW', 'SVM TF-IDF']}\n",
        "df = pd.DataFrame(data, columns = ['accuracy', 'model'])\n",
        "df.head(8)"
      ],
      "execution_count": 29,
      "outputs": [
        {
          "output_type": "execute_result",
          "data": {
            "text/html": [
              "<div>\n",
              "<style scoped>\n",
              "    .dataframe tbody tr th:only-of-type {\n",
              "        vertical-align: middle;\n",
              "    }\n",
              "\n",
              "    .dataframe tbody tr th {\n",
              "        vertical-align: top;\n",
              "    }\n",
              "\n",
              "    .dataframe thead th {\n",
              "        text-align: right;\n",
              "    }\n",
              "</style>\n",
              "<table border=\"1\" class=\"dataframe\">\n",
              "  <thead>\n",
              "    <tr style=\"text-align: right;\">\n",
              "      <th></th>\n",
              "      <th>accuracy</th>\n",
              "      <th>model</th>\n",
              "    </tr>\n",
              "  </thead>\n",
              "  <tbody>\n",
              "    <tr>\n",
              "      <th>0</th>\n",
              "      <td>88.943010</td>\n",
              "      <td>Naive bayes BOW</td>\n",
              "    </tr>\n",
              "    <tr>\n",
              "      <th>1</th>\n",
              "      <td>88.894301</td>\n",
              "      <td>Naive bayes TF-IDF</td>\n",
              "    </tr>\n",
              "    <tr>\n",
              "      <th>2</th>\n",
              "      <td>88.894301</td>\n",
              "      <td>Random Forest BOW</td>\n",
              "    </tr>\n",
              "    <tr>\n",
              "      <th>3</th>\n",
              "      <td>88.894301</td>\n",
              "      <td>Random Forest TF-IDF</td>\n",
              "    </tr>\n",
              "    <tr>\n",
              "      <th>4</th>\n",
              "      <td>88.991719</td>\n",
              "      <td>logit BOW</td>\n",
              "    </tr>\n",
              "    <tr>\n",
              "      <th>5</th>\n",
              "      <td>88.894301</td>\n",
              "      <td>logit TF-IDF</td>\n",
              "    </tr>\n",
              "    <tr>\n",
              "      <th>6</th>\n",
              "      <td>88.991719</td>\n",
              "      <td>SVM BOW</td>\n",
              "    </tr>\n",
              "    <tr>\n",
              "      <th>7</th>\n",
              "      <td>88.845592</td>\n",
              "      <td>SVM TF-IDF</td>\n",
              "    </tr>\n",
              "  </tbody>\n",
              "</table>\n",
              "</div>"
            ],
            "text/plain": [
              "    accuracy                 model\n",
              "0  88.943010       Naive bayes BOW\n",
              "1  88.894301    Naive bayes TF-IDF\n",
              "2  88.894301     Random Forest BOW\n",
              "3  88.894301  Random Forest TF-IDF\n",
              "4  88.991719             logit BOW\n",
              "5  88.894301          logit TF-IDF\n",
              "6  88.991719               SVM BOW\n",
              "7  88.845592            SVM TF-IDF"
            ]
          },
          "metadata": {
            "tags": []
          },
          "execution_count": 29
        }
      ]
    },
    {
      "cell_type": "code",
      "metadata": {
        "colab": {
          "base_uri": "https://localhost:8080/",
          "height": 459
        },
        "id": "iaA5MChAS_pC",
        "outputId": "8abb820d-41a3-41bf-a654-deaf5d371699"
      },
      "source": [
        "#Plotting Models Accuracy\n",
        "\n",
        "plt.figure(figsize = (17,7))\n",
        "sns.barplot(y = df.accuracy, x = df.model)"
      ],
      "execution_count": 30,
      "outputs": [
        {
          "output_type": "execute_result",
          "data": {
            "text/plain": [
              "<matplotlib.axes._subplots.AxesSubplot at 0x7f63857db650>"
            ]
          },
          "metadata": {
            "tags": []
          },
          "execution_count": 30
        },
        {
          "output_type": "display_data",
          "data": {
            "image/png": "[encoded data removed]",
            "text/plain": [
              "<Figure size 1224x504 with 1 Axes>"
            ]
          },
          "metadata": {
            "tags": [],
            "needs_background": "light"
          }
        }
      ]
    }
  ]
}